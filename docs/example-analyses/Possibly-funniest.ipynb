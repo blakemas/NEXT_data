{
 "cells": [
  {
   "cell_type": "code",
   "execution_count": 1,
   "id": "34549f24-2a5b-4589-b744-4030363ff297",
   "metadata": {},
   "outputs": [],
   "source": [
    "import pandas as pd\n",
    "from pathlib import Path\n",
    "import sys\n",
    "import numpy as np"
   ]
  },
  {
   "cell_type": "code",
   "execution_count": 2,
   "id": "997cfa97-b38f-4863-b53b-72365b9c4776",
   "metadata": {},
   "outputs": [
    {
     "name": "stdout",
     "output_type": "stream",
     "text": [
      "/Users/scott/Developer/nextml/caption-contest-data\n"
     ]
    }
   ],
   "source": [
    "ROOT = Path(\".\").absolute().parent.parent\n",
    "sys.path.append(str(ROOT))\n",
    "print(ROOT)"
   ]
  },
  {
   "cell_type": "code",
   "execution_count": 3,
   "id": "7bdeadbd-772f-4401-8ee7-755438865993",
   "metadata": {},
   "outputs": [],
   "source": [
    "contest = 510\n",
    "contest = 511\n",
    "contest = 518\n",
    "contest = 519"
   ]
  },
  {
   "cell_type": "code",
   "execution_count": 4,
   "id": "60730e9a-9381-4742-bb56-667e2414c0c4",
   "metadata": {},
   "outputs": [
    {
     "name": "stdout",
     "output_type": "stream",
     "text": [
      "Index(['alg_label', 'network_delay', 'participant_uid', 'response_time',\n",
      "       'target', 'target_id', 'target_reward', 'timestamp_query_generated',\n",
      "       'label', 'contest', 'filename'],\n",
      "      dtype='object')\n"
     ]
    },
    {
     "data": {
      "text/plain": [
       "{'roundrobin': 95751, 'lilucb': 96184}"
      ]
     },
     "execution_count": 4,
     "metadata": {},
     "output_type": "execute_result"
    }
   ],
   "source": [
    "from caption_contest_data import responses\n",
    "df = responses(contest)\n",
    "df.alg_label.unique()\n",
    "\n",
    "# dfs = {\"random\": df_passive}\n",
    "dfs = {k.lower(): df[df.alg_label == k] for k in df.alg_label.unique()}\n",
    "print(dfs[\"lilucb\"].columns)\n",
    "for k, df in dfs.items():\n",
    "    dfs[k] = df.sort_values(by=\"timestamp_query_generated\")\n",
    "{k: len(v) for k, v in dfs.items()}"
   ]
  },
  {
   "cell_type": "markdown",
   "id": "52f569d7-ff54-4903-96f6-542db8d2f6e2",
   "metadata": {},
   "source": [
    "Metrics:\n",
    "\n",
    "* How many captions can be considered the \"funniest\"?"
   ]
  },
  {
   "cell_type": "code",
   "execution_count": 5,
   "id": "01302e1e-f844-4fed-b90a-296de0090387",
   "metadata": {},
   "outputs": [
    {
     "data": {
      "text/plain": [
       "Index(['alg_label', 'network_delay', 'participant_uid', 'response_time',\n",
       "       'target', 'target_id', 'target_reward', 'timestamp_query_generated',\n",
       "       'label', 'contest', 'filename'],\n",
       "      dtype='object')"
      ]
     },
     "execution_count": 5,
     "metadata": {},
     "output_type": "execute_result"
    }
   ],
   "source": [
    "df.columns"
   ]
  },
  {
   "cell_type": "code",
   "execution_count": 6,
   "id": "3a01b117-a787-4510-abac-6781b7c70c9c",
   "metadata": {},
   "outputs": [
    {
     "data": {
      "text/html": [
       "<div>\n",
       "<style scoped>\n",
       "    .dataframe tbody tr th:only-of-type {\n",
       "        vertical-align: middle;\n",
       "    }\n",
       "\n",
       "    .dataframe tbody tr th {\n",
       "        vertical-align: top;\n",
       "    }\n",
       "\n",
       "    .dataframe thead th {\n",
       "        text-align: right;\n",
       "    }\n",
       "</style>\n",
       "<table border=\"1\" class=\"dataframe\">\n",
       "  <thead>\n",
       "    <tr style=\"text-align: right;\">\n",
       "      <th>label</th>\n",
       "      <th>unfunny</th>\n",
       "      <th>somewhat_funny</th>\n",
       "      <th>funny</th>\n",
       "      <th>count</th>\n",
       "    </tr>\n",
       "    <tr>\n",
       "      <th>target_id</th>\n",
       "      <th></th>\n",
       "      <th></th>\n",
       "      <th></th>\n",
       "      <th></th>\n",
       "    </tr>\n",
       "  </thead>\n",
       "  <tbody>\n",
       "    <tr>\n",
       "      <th>0</th>\n",
       "      <td>12</td>\n",
       "      <td>1</td>\n",
       "      <td>0</td>\n",
       "      <td>13</td>\n",
       "    </tr>\n",
       "    <tr>\n",
       "      <th>1</th>\n",
       "      <td>18</td>\n",
       "      <td>7</td>\n",
       "      <td>2</td>\n",
       "      <td>27</td>\n",
       "    </tr>\n",
       "    <tr>\n",
       "      <th>2</th>\n",
       "      <td>30</td>\n",
       "      <td>16</td>\n",
       "      <td>10</td>\n",
       "      <td>56</td>\n",
       "    </tr>\n",
       "    <tr>\n",
       "      <th>3</th>\n",
       "      <td>13</td>\n",
       "      <td>2</td>\n",
       "      <td>0</td>\n",
       "      <td>15</td>\n",
       "    </tr>\n",
       "    <tr>\n",
       "      <th>4</th>\n",
       "      <td>13</td>\n",
       "      <td>1</td>\n",
       "      <td>0</td>\n",
       "      <td>14</td>\n",
       "    </tr>\n",
       "    <tr>\n",
       "      <th>...</th>\n",
       "      <td>...</td>\n",
       "      <td>...</td>\n",
       "      <td>...</td>\n",
       "      <td>...</td>\n",
       "    </tr>\n",
       "    <tr>\n",
       "      <th>4609</th>\n",
       "      <td>13</td>\n",
       "      <td>1</td>\n",
       "      <td>0</td>\n",
       "      <td>14</td>\n",
       "    </tr>\n",
       "    <tr>\n",
       "      <th>4610</th>\n",
       "      <td>13</td>\n",
       "      <td>2</td>\n",
       "      <td>0</td>\n",
       "      <td>15</td>\n",
       "    </tr>\n",
       "    <tr>\n",
       "      <th>4611</th>\n",
       "      <td>22</td>\n",
       "      <td>14</td>\n",
       "      <td>5</td>\n",
       "      <td>41</td>\n",
       "    </tr>\n",
       "    <tr>\n",
       "      <th>4612</th>\n",
       "      <td>11</td>\n",
       "      <td>0</td>\n",
       "      <td>0</td>\n",
       "      <td>11</td>\n",
       "    </tr>\n",
       "    <tr>\n",
       "      <th>4613</th>\n",
       "      <td>20</td>\n",
       "      <td>1</td>\n",
       "      <td>0</td>\n",
       "      <td>21</td>\n",
       "    </tr>\n",
       "  </tbody>\n",
       "</table>\n",
       "<p>4614 rows × 4 columns</p>\n",
       "</div>"
      ],
      "text/plain": [
       "label      unfunny  somewhat_funny  funny  count\n",
       "target_id                                       \n",
       "0               12               1      0     13\n",
       "1               18               7      2     27\n",
       "2               30              16     10     56\n",
       "3               13               2      0     15\n",
       "4               13               1      0     14\n",
       "...            ...             ...    ...    ...\n",
       "4609            13               1      0     14\n",
       "4610            13               2      0     15\n",
       "4611            22              14      5     41\n",
       "4612            11               0      0     11\n",
       "4613            20               1      0     21\n",
       "\n",
       "[4614 rows x 4 columns]"
      ]
     },
     "execution_count": 6,
     "metadata": {},
     "output_type": "execute_result"
    }
   ],
   "source": [
    "def _get_counts(df, target_ids):\n",
    "    static = pd.DataFrame({\"target_id\": t, \"label\": \"_filler\", \"contest\": -1} for t in target_ids)\n",
    "    df = pd.concat((df, static))\n",
    "\n",
    "    summary = df.pivot_table(\n",
    "        index=\"target_id\",\n",
    "        columns=\"label\",\n",
    "        values=\"contest\",\n",
    "        aggfunc=\"count\",\n",
    "    ).fillna(0).astype(int)\n",
    "    summary = summary[[\"unfunny\", \"somewhat_funny\", \"funny\"]]\n",
    "    summary[\"count\"] = summary.sum(axis=1)\n",
    "    return summary\n",
    "\n",
    "target_ids = set(dfs[\"lilucb\"].target_id)\n",
    "assert all(set(df.target_id) == target_ids for df in dfs.values())\n",
    "_get_counts(dfs[\"lilucb\"], target_ids)"
   ]
  },
  {
   "cell_type": "code",
   "execution_count": 7,
   "id": "ba654786-54f2-4b07-9b81-f2cdde62ae47",
   "metadata": {},
   "outputs": [],
   "source": [
    "from caption_contest_data._raw import score_and_prec\n",
    "from typing import Any, Dict\n",
    "\n",
    "def _get_perf(df, target_ids, n=3):\n",
    "    summary = _get_counts(df, target_ids)\n",
    "    scores, precs = score_and_prec(summary.unfunny, summary.somewhat_funny, summary.funny, summary[\"count\"])\n",
    "    scores = scores.fillna(0.5)\n",
    "    precs = precs.fillna(1)\n",
    "\n",
    "    top = scores.nlargest(n=n)\n",
    "    best_caption = top.index[-1]  #nth funniest caption, empirically\n",
    "    c = 1\n",
    "    lower_bound = scores[best_caption] - c * precs[best_caption]\n",
    "    upper_bounds = scores + 0 * precs\n",
    "    return {\n",
    "        \"possibly_funniest\": (upper_bounds > lower_bound).sum(),\n",
    "        \"n_captions\": len(target_ids),\n",
    "        \"n_responses\": len(df),\n",
    "    }\n",
    "\n",
    "data = []\n",
    "for k, df in dfs.items():\n",
    "    for frac in np.linspace(0, 1, num=200):\n",
    "        N = int(len(df) * frac)\n",
    "        if N < 100:\n",
    "            continue\n",
    "        datum = _get_perf(df.iloc[:N], target_ids)\n",
    "        datum.update({\"alg\": k, \"N\": N})\n",
    "        data.append(datum)\n"
   ]
  },
  {
   "cell_type": "code",
   "execution_count": 8,
   "id": "23c3e99e-dc9d-4b73-8949-076861217308",
   "metadata": {
    "tags": []
   },
   "outputs": [
    {
     "data": {
      "text/html": [
       "<div>\n",
       "<style scoped>\n",
       "    .dataframe tbody tr th:only-of-type {\n",
       "        vertical-align: middle;\n",
       "    }\n",
       "\n",
       "    .dataframe tbody tr th {\n",
       "        vertical-align: top;\n",
       "    }\n",
       "\n",
       "    .dataframe thead th {\n",
       "        text-align: right;\n",
       "    }\n",
       "</style>\n",
       "<table border=\"1\" class=\"dataframe\">\n",
       "  <thead>\n",
       "    <tr style=\"text-align: right;\">\n",
       "      <th></th>\n",
       "      <th>possibly_funniest</th>\n",
       "      <th>n_captions</th>\n",
       "      <th>n_responses</th>\n",
       "      <th>alg</th>\n",
       "      <th>N</th>\n",
       "    </tr>\n",
       "  </thead>\n",
       "  <tbody>\n",
       "    <tr>\n",
       "      <th>0</th>\n",
       "      <td>4133</td>\n",
       "      <td>4614</td>\n",
       "      <td>481</td>\n",
       "      <td>roundrobin</td>\n",
       "      <td>481</td>\n",
       "    </tr>\n",
       "    <tr>\n",
       "      <th>1</th>\n",
       "      <td>3652</td>\n",
       "      <td>4614</td>\n",
       "      <td>962</td>\n",
       "      <td>roundrobin</td>\n",
       "      <td>962</td>\n",
       "    </tr>\n",
       "    <tr>\n",
       "      <th>2</th>\n",
       "      <td>3171</td>\n",
       "      <td>4614</td>\n",
       "      <td>1443</td>\n",
       "      <td>roundrobin</td>\n",
       "      <td>1443</td>\n",
       "    </tr>\n",
       "    <tr>\n",
       "      <th>3</th>\n",
       "      <td>2690</td>\n",
       "      <td>4614</td>\n",
       "      <td>1924</td>\n",
       "      <td>roundrobin</td>\n",
       "      <td>1924</td>\n",
       "    </tr>\n",
       "    <tr>\n",
       "      <th>4</th>\n",
       "      <td>2209</td>\n",
       "      <td>4614</td>\n",
       "      <td>2405</td>\n",
       "      <td>roundrobin</td>\n",
       "      <td>2405</td>\n",
       "    </tr>\n",
       "  </tbody>\n",
       "</table>\n",
       "</div>"
      ],
      "text/plain": [
       "   possibly_funniest  n_captions  n_responses         alg     N\n",
       "0               4133        4614          481  roundrobin   481\n",
       "1               3652        4614          962  roundrobin   962\n",
       "2               3171        4614         1443  roundrobin  1443\n",
       "3               2690        4614         1924  roundrobin  1924\n",
       "4               2209        4614         2405  roundrobin  2405"
      ]
     },
     "execution_count": 8,
     "metadata": {},
     "output_type": "execute_result"
    }
   ],
   "source": [
    "show = pd.DataFrame(data)\n",
    "show.head()"
   ]
  },
  {
   "cell_type": "code",
   "execution_count": 9,
   "id": "d3ca58ed-b463-4055-b083-db19926fe072",
   "metadata": {},
   "outputs": [
    {
     "name": "stdout",
     "output_type": "stream",
     "text": [
      "[3, 0.0, 20.0, 40.0, 60.0, 80.0, 100.0]\n"
     ]
    },
    {
     "data": {
      "image/png": "[encoded data removed]",
      "text/plain": [
       "<Figure size 270x180 with 1 Axes>"
      ]
     },
     "metadata": {
      "image/png": {
       "height": 184,
       "width": 270
      },
      "needs_background": "light"
     },
     "output_type": "display_data"
    }
   ],
   "source": [
    "import seaborn as sns\n",
    "import matplotlib.pyplot as plt\n",
    "\n",
    "alg_names = {\"roundrobin\": \"Round robin\", \"lilucb\": \"lil'UCB\"}\n",
    "show[\"Sampling\"] = show[\"alg\"].apply(alg_names.get)\n",
    "\n",
    "w = 2.5\n",
    "fig, ax = plt.subplots(figsize=(1.5 * w, w))\n",
    "ax = sns.lineplot(\n",
    "    x=\"n_responses\",\n",
    "    y=\"possibly_funniest\",\n",
    "    hue=\"Sampling\",\n",
    "    data=show,\n",
    ")\n",
    "ax.xaxis.set_major_formatter(plt.FuncFormatter(lambda x, _: f\"{int(x//1000)}\"))\n",
    "\n",
    "# ax.set_yscale('log')\n",
    "# yticks = sum([[1*10**i, 2*10**i, 5*10**i] for i in [0, 1, 2, 3]], [])\n",
    "# print(yticks)\n",
    "# ax.yaxis.set_major_locator(plt.FixedLocator(yticks))\n",
    "# ax.yaxis.set_major_formatter(plt.FuncFormatter(lambda x, _: str(x)))\n",
    "# ax.set_ylim(20, 1000)\n",
    "# ax.set_xlim(10_000, None)\n",
    "\n",
    "ax.set_ylim(3, 100);\n",
    "yticks = [3] + ax.get_yticks().tolist()\n",
    "print(yticks)\n",
    "ax.yaxis.set_major_locator(plt.FixedLocator(yticks))\n",
    "ax.set_xlim(20_000, None)\n",
    "# ax.set_xlim(0, None)\n",
    "\n",
    "ax.grid(alpha=0.5)\n",
    "ax.set_xlabel(\"Num. responses / 1000\")\n",
    "ax.set_ylabel(\"Top captions\")\n",
    "fig.savefig(\"possibly_funniest.png\", dpi=300, bbox_inches=\"tight\", transparent=True)"
   ]
  },
  {
   "cell_type": "code",
   "execution_count": 10,
   "id": "365fb1b8-4bd7-47fd-b6be-908c92fa92e0",
   "metadata": {},
   "outputs": [
    {
     "name": "stdout",
     "output_type": "stream",
     "text": [
      "1\n"
     ]
    },
    {
     "data": {
      "text/plain": [
       "(0.9, 1000.0)"
      ]
     },
     "execution_count": 10,
     "metadata": {},
     "output_type": "execute_result"
    },
    {
     "data": {
      "image/png": "[encoded data removed]",
      "text/plain": [
       "<Figure size 432x288 with 1 Axes>"
      ]
     },
     "metadata": {
      "image/png": {
       "height": 261,
       "width": 384
      },
      "needs_background": "light"
     },
     "output_type": "display_data"
    }
   ],
   "source": [
    "import pandas as pd\n",
    "from caption_contest_data import summary\n",
    "\n",
    "df_active = summary(\"519_summary_LilUCB\")\n",
    "df_passive = summary(\"519_summary_RoundRobin\")\n",
    "\n",
    "fig, ax = plt.subplots()\n",
    "static = dict(x=\"rank\", y=\"score\", yerr=\"precision\", ax=ax)\n",
    "print(df_passive[\"rank\"].min())\n",
    "# df_passive[\"rank\"] += 1\n",
    "# df_active[\"rank\"] += 1\n",
    "df_passive.plot(label=\"Round robin\", **static)\n",
    "df_active.plot(label=\"Lil'UCB\", **static)\n",
    "ax.set_xlim(0.9, 1000)\n",
    "# ax.set_xscale(\"log\")"
   ]
  },
  {
   "cell_type": "code",
   "execution_count": null,
   "id": "77f3ba21-021a-4dc6-aa8a-bd800e65437a",
   "metadata": {},
   "outputs": [],
   "source": []
  }
 ],
 "metadata": {
  "kernelspec": {
   "display_name": "Python 3",
   "language": "python",
   "name": "python3"
  },
  "language_info": {
   "codemirror_mode": {
    "name": "ipython",
    "version": 3
   },
   "file_extension": ".py",
   "mimetype": "text/x-python",
   "name": "python",
   "nbconvert_exporter": "python",
   "pygments_lexer": "ipython3",
   "version": "3.8.8"
  }
 },
 "nbformat": 4,
 "nbformat_minor": 5
}
